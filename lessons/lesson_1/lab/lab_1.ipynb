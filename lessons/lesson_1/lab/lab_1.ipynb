{
 "cells": [
  {
   "cell_type": "markdown",
   "metadata": {},
   "source": [
    "# Лабораторная работа №1"
   ]
  },
  {
   "cell_type": "markdown",
   "metadata": {},
   "source": [
    "## Импорты"
   ]
  },
  {
   "cell_type": "code",
   "execution_count": 1,
   "metadata": {
    "ExecuteTime": {
     "end_time": "2023-09-09T16:42:39.307988Z",
     "start_time": "2023-09-09T16:42:36.217415Z"
    }
   },
   "outputs": [],
   "source": [
    "import math\n",
    "import random\n",
    "import numpy as np\n",
    "import torch\n",
    "import matplotlib.pyplot as plt\n",
    "%matplotlib inline"
   ]
  },
  {
   "cell_type": "markdown",
   "metadata": {},
   "source": [
    "## Производная (интуиция)"
   ]
  },
  {
   "cell_type": "markdown",
   "metadata": {},
   "source": [
    "Производная используется в алгоритме градиентного спуска, который является одним из основных численных методов современной оптимизации и широко применяется в машинном обучения. Основная идея метода заключается в том, чтобы идти в направлении наискорейшего спуска, а это направление задаётся антиградиентом. Градиент - вектор, своим направлением указывающий направление наискорейшего роста некоторой скалярной величины. Так для $f$ - функции $n$ переменных $a_1, \\dots, a_n$ её градиентом будет n-мерный вектор:\\\n",
    "$$\\left(\\frac{\\partial{f}}{\\partial{a_1}}, \\dots, \\frac{\\partial{f}}{\\partial{a_n}}\\right)$$\n",
    "\n",
    "Производная показывает чувствительность изменения выходного значения функции по отношению к входному.\\\n",
    "Численный способ получения производной функции в точке $a$:\n",
    "\\begin{equation}\n",
    "f'(a)=\\lim_{h \\to 0}\\frac{f(a+h)-f(a)}h\n",
    "\\end{equation}\n",
    "О чем говорит данная формула?\\\n",
    "Если в некоторой точке $a$ увеличить аргумент на некоторое маленькое значение (стремящееся к нулю), то с **какой чувствительностью** функция ответит на это изменение. Или иначе: каково **влияние** входного значение на результат функции. Или иначе: какова **скорость изменения функции** в данной точке $a$.\n",
    "\n",
    "Производная функции одной переменной при выбранном входном значении, если она существует, представляет собой наклон касательной к графику функции в этой точке. Дополнительная информация: [wiki](https://ru.wikipedia.org/wiki/%D0%9F%D1%80%D0%BE%D0%B8%D0%B7%D0%B2%D0%BE%D0%B4%D0%BD%D0%B0%D1%8F_%D1%84%D1%83%D0%BD%D0%BA%D1%86%D0%B8%D0%B8#%D0%A2%D0%B0%D0%BD%D0%B3%D0%B5%D0%BD%D1%81_%D1%83%D0%B3%D0%BB%D0%B0_%D0%BD%D0%B0%D0%BA%D0%BB%D0%BE%D0%BD%D0%B0_%D0%BA%D0%B0%D1%81%D0%B0%D1%82%D0%B5%D0%BB%D1%8C%D0%BD%D0%BE%D0%B9_%D0%BF%D1%80%D1%8F%D0%BC%D0%BE%D0%B9)."
   ]
  },
  {
   "cell_type": "markdown",
   "metadata": {},
   "source": [
    "Определим $h$ и функцию для нахождения производной от $f(x)$ численным методом:"
   ]
  },
  {
   "cell_type": "code",
   "execution_count": 2,
   "metadata": {
    "ExecuteTime": {
     "end_time": "2023-09-09T16:42:39.319798Z",
     "start_time": "2023-09-09T16:42:39.311452Z"
    }
   },
   "outputs": [],
   "source": [
    "h = 0.00000001\n",
    "\n",
    "\n",
    "def derivative(f, x, print_intermediate_results=False):\n",
    "    \"\"\"Calculates the derivative using the formula (f(x + h) - f(x)) / h\"\"\"\n",
    "    out_for_x = f(x)\n",
    "    out_for_x_plus_h = f(x + h)\n",
    "    diff = out_for_x_plus_h - out_for_x\n",
    "    normalized_value = diff / h\n",
    "    if print_intermediate_results:\n",
    "        print(\n",
    "            \"f(x):\", out_for_x,\n",
    "            \"\\nf(x+h):\", out_for_x_plus_h,\n",
    "            '\\ndiff (or not normalized sensitive):', diff,\n",
    "            \"\\nnormalized sensitive or derivative:\", normalized_value\n",
    "        )\n",
    "    return normalized_value"
   ]
  },
  {
   "cell_type": "markdown",
   "metadata": {},
   "source": [
    "Рассмотрим функцию:"
   ]
  },
  {
   "cell_type": "code",
   "execution_count": 3,
   "metadata": {
    "ExecuteTime": {
     "end_time": "2023-09-09T16:42:39.320116Z",
     "start_time": "2023-09-09T16:42:39.316187Z"
    }
   },
   "outputs": [],
   "source": [
    "def f(x):\n",
    "    return 2*x**2 - 3*x + 4"
   ]
  },
  {
   "cell_type": "markdown",
   "metadata": {},
   "source": [
    " Отобразим график данной функции:"
   ]
  },
  {
   "cell_type": "code",
   "execution_count": 4,
   "metadata": {
    "ExecuteTime": {
     "end_time": "2023-09-09T16:42:39.493601Z",
     "start_time": "2023-09-09T16:42:39.322661Z"
    }
   },
   "outputs": [
    {
     "data": {
      "text/plain": [
       "[<matplotlib.lines.Line2D at 0x11b471d10>]"
      ]
     },
     "execution_count": 4,
     "metadata": {},
     "output_type": "execute_result"
    },
    {
     "data": {
      "image/png": "[encoded data removed]",
      "text/plain": [
       "<Figure size 640x480 with 1 Axes>"
      ]
     },
     "metadata": {},
     "output_type": "display_data"
    }
   ],
   "source": [
    "xs = np.arange(-5, 6.75, 0.25)\n",
    "ys = f(xs)\n",
    "plt.plot(xs, ys)"
   ]
  },
  {
   "cell_type": "markdown",
   "metadata": {},
   "source": [
    "Найдем производную в точке $x_1=4$:"
   ]
  },
  {
   "cell_type": "code",
   "execution_count": 5,
   "metadata": {
    "ExecuteTime": {
     "end_time": "2023-09-09T16:42:39.498750Z",
     "start_time": "2023-09-09T16:42:39.495201Z"
    }
   },
   "outputs": [
    {
     "name": "stdout",
     "output_type": "stream",
     "text": [
      "f(x): 24 \n",
      "f(x+h): 24.00000013 \n",
      "diff (or not normalized sensitive): 1.300000000981072e-07 \n",
      "normalized sensitive or derivative: 13.00000000981072\n"
     ]
    }
   ],
   "source": [
    "x1 = 4\n",
    "out = derivative(f, x1, print_intermediate_results=True)"
   ]
  },
  {
   "cell_type": "markdown",
   "metadata": {},
   "source": [
    "Полученное значение производной $f'(x) \\approx 13$. Проверим правильность:\\\n",
    "Функция: $2*x^2-3*x+4$\\\n",
    "Производная: $4*x-3$\\\n",
    "Подставим $x_1=4$: $4*4-3$\\\n",
    "Ответ: $13$ (результат верный)\n",
    "\n",
    "Поскольку в результате добавления небольшого значения к аргументу, результат функции увеличился - это означает, что производная будет положительной. И наоборот: положительная производная означает, что увеличение аргумента приведет к увеличению выходного значения функции. То, как увеличится это значение, можно понять из величины производной."
   ]
  },
  {
   "cell_type": "markdown",
   "metadata": {},
   "source": [
    "Отобразим касательную к $f(x)$ в точке $x_1=4$, используя значение производной в этой точке для определения наклона касательной:"
   ]
  },
  {
   "cell_type": "code",
   "execution_count": 6,
   "metadata": {},
   "outputs": [],
   "source": [
    "def plot_graph_with_tangent():\n",
    "    # Define tangent line\n",
    "    # y = m * (x - x1) + y1\n",
    "    def line(x, x1, y1):\n",
    "        return derivative(f, x1) * (x - x1) + y1\n",
    "\n",
    "    y1 = f(x1)\n",
    "    # Define x data range for tangent line\n",
    "    xrange = np.linspace(x1 - 1.2, x1 + 1.2, 10)\n",
    "\n",
    "    # Plot the figure\n",
    "    plt.figure()\n",
    "    plt.plot(xs, f(xs), label='parabola')\n",
    "    plt.scatter(x1, y1, color='C1', s=50)\n",
    "    plt.plot(xrange, line(xrange, x1, y1), 'C1--', linewidth = 2, label=f'tangent line with slope={derivative(f, x1):.2f}')\n",
    "    plt.legend()"
   ]
  },
  {
   "cell_type": "code",
   "execution_count": 7,
   "metadata": {
    "ExecuteTime": {
     "end_time": "2023-09-09T16:42:39.504423Z",
     "start_time": "2023-09-09T16:42:39.501240Z"
    }
   },
   "outputs": [
    {
     "data": {
      "image/png": "[encoded data removed]",
      "text/plain": [
       "<Figure size 640x480 with 1 Axes>"
      ]
     },
     "metadata": {},
     "output_type": "display_data"
    }
   ],
   "source": [
    "plot_graph_with_tangent()"
   ]
  },
  {
   "cell_type": "markdown",
   "metadata": {
    "ExecuteTime": {
     "end_time": "2023-09-09T16:42:39.695230Z",
     "start_time": "2023-09-09T16:42:39.509305Z"
    }
   },
   "source": [
    "Теперь найдем производную в точке $x_1=-2$:"
   ]
  },
  {
   "cell_type": "code",
   "execution_count": 8,
   "metadata": {
    "ExecuteTime": {
     "end_time": "2023-09-09T16:31:38.144916Z",
     "start_time": "2023-09-09T16:31:38.134415Z"
    }
   },
   "outputs": [
    {
     "name": "stdout",
     "output_type": "stream",
     "text": [
      "f(x): 18 \n",
      "f(x+h): 17.99999989 \n",
      "diff (or not normalized sensitive): -1.0999999844329977e-07 \n",
      "normalized sensitive or derivative: -10.999999844329977\n"
     ]
    }
   ],
   "source": [
    "x1 = -2\n",
    "out = derivative(f, x1, print_intermediate_results=True)"
   ]
  },
  {
   "cell_type": "code",
   "execution_count": 9,
   "metadata": {
    "ExecuteTime": {
     "end_time": "2023-09-09T16:45:13.692395Z",
     "start_time": "2023-09-09T16:45:13.686645Z"
    }
   },
   "outputs": [
    {
     "data": {
      "image/png": "[encoded data removed]",
      "text/plain": [
       "<Figure size 640x480 with 1 Axes>"
      ]
     },
     "metadata": {},
     "output_type": "display_data"
    }
   ],
   "source": [
    "plot_graph_with_tangent()"
   ]
  },
  {
   "cell_type": "markdown",
   "metadata": {},
   "source": [
    "## 1 - Линейная регрессия"
   ]
  },
  {
   "cell_type": "markdown",
   "metadata": {},
   "source": [
    "Модель линейной регрессии:\n",
    "$$f_{w,b}(x) = wx + b$$\n",
    "Для обучения модели линейной регрессии, необходимо найти оптимальные параметры $(w,b)$, соответствующие рассматриваемому набору данных.\\\n",
    "Чтобы сравнить, насколько один вариант $(w,b)$ лучше или хуже другого, используется эмпирический риск $Q(f,x)$.\\\n",
    "Параметры $(w,b)$, которые лучше всего соответствуют данным - это те, для которых эмпирический риск $Q(f,x)$ имеет наименьшее значение.\\\n",
    "Чтобы найти параметры $(w,b)$, для которых эмпирический риск $Q(f,x)$ минимален, можно использовать метод под названием **градиентный спуск**.\\\n",
    "С каждым шагом градиентного спуска параметры $(w,b)$ приближаются к оптимальным значениям, которые позволят достичь наименьшого значения $Q(f,x)$.\\\n",
    "В результате будет получена обученная модель линейной регрессии, для которой можно будет взять входной признак $x$ и вывести прогноз $f_{w,b}(x)$."
   ]
  },
  {
   "cell_type": "markdown",
   "metadata": {},
   "source": [
    "#### Эмпирический риск $Q(f,x)$"
   ]
  },
  {
   "cell_type": "markdown",
   "metadata": {},
   "source": [
    "Как было указано в лекции, эмпирический риск для квадратичной функции потерь имеет следующий вид:\n",
    "$$Q(f,X^l)=\\frac{1}{2l}\\sum_{i=1}^{l}{(f(x_i)-y_i)^2}$$\n",
    "где $l$ - количество строк данных в исходном наборе. Двойка в знаменателе $\\frac{1}{2l}$ добавлена для удобства (при нахождении производной для градиентного спуска двойка сокращается)."
   ]
  },
  {
   "cell_type": "markdown",
   "metadata": {},
   "source": [
    "### Задание №1"
   ]
  },
  {
   "cell_type": "markdown",
   "metadata": {},
   "source": [
    "#### Одномерная линейная регрессия"
   ]
  },
  {
   "cell_type": "markdown",
   "metadata": {},
   "source": [
    "Это линейная регрессия с одной независимой скалярной переменной, который имеет слуюдующий вид:\n",
    "$$f_{w,b}(x_i) = wx_i + b \\tag{1}$$\n",
    "где $i$ - номер строки в наборе данных.\n",
    "\n",
    "Используя набор данных $train.csv$ реализуйте процесс обучения одномерной линейной регрессии."
   ]
  },
  {
   "cell_type": "markdown",
   "metadata": {},
   "source": [
    "#### Нахождение эмпирического риска"
   ]
  },
  {
   "cell_type": "markdown",
   "metadata": {},
   "source": [
    "Реализуйте функцию нахождения эмпирического риска:"
   ]
  },
  {
   "cell_type": "code",
   "execution_count": 10,
   "metadata": {},
   "outputs": [],
   "source": [
    "def empirical_risk(x, y, w, b):\n",
    "    \"\"\"\n",
    "    Return empirical risk for linear regression.\n",
    "    \n",
    "    Parameters\n",
    "    ----------\n",
    "    x : ndarray\n",
    "    y : ndarray\n",
    "    w : float\n",
    "    b : float\n",
    "    \n",
    "    Returns\n",
    "    -------\n",
    "    empirical_risk : float\n",
    "    \"\"\"\n",
    "    # TODO"
   ]
  },
  {
   "cell_type": "markdown",
   "metadata": {},
   "source": [
    "#### Градиентный спуск"
   ]
  },
  {
   "cell_type": "markdown",
   "metadata": {},
   "source": [
    "Градиентный спуск используется для нахождения оптимальных параметров $w, b$ одномерной линейной регрессии.\\\n",
    "Алгоритм градиентного спуска:\n",
    "\\begin{align*}& \n",
    "\\text{repeat until convergence:} \\; \\lbrace \\newline \\; & \n",
    "\\phantom {0000} b := b -  h \\frac{\\partial Q(w,b)}{\\partial b} \\newline \\; & \n",
    "\\phantom {0000} w := w -  h \\frac{\\partial Q(w,b)}{\\partial w} \\tag{2} \\; & \n",
    "\\newline & \n",
    "\\rbrace\n",
    "\\end{align*}\n",
    "где $h$ - темп обучения и\n",
    "$$\n",
    "\\frac{\\partial Q(w,b)}{\\partial b} = \\frac{1}{l} \\sum\\limits_{i = 0}^{l-1} (f_{w,b}(x_{i}) - y_{i}) \\tag{3}\n",
    "$$\n",
    "$$\n",
    "\\frac{\\partial Q(w,b)}{\\partial w} = \\frac{1}{l} \\sum\\limits_{i = 0}^{l-1} (f_{w,b}(x_{i}) -y_{i})x_{i} \\tag{4}\n",
    "$$\n",
    "Пример нахождения частой производной $\\frac{\\partial Q(w,b)}{\\partial w}$ можно найти [здесь](https://medium.com/analytics-vidhya/linear-regression-with-gradient-descent-derivation-c10685ddf0f4) (Раздел 5. Calculate (∂(loss)/ ∂w)).\n",
    "\n",
    "Реализуйте функцию для нахождения градиента параметров $w, b$.\\\n",
    "Для этого проитерируйтесь через весь входной набор данных, считая $(f_{w,b}(x_{i}) - y_{i})$ и $(f_{w,b}(x_{i}) -y_{i})x_{i}$, а затем вычислите общий градиент для всех входных данных и верните его (см. $(3)$ и $(4)$)."
   ]
  },
  {
   "cell_type": "code",
   "execution_count": 11,
   "metadata": {},
   "outputs": [],
   "source": [
    "def compute_gradient(x, y, w, b):\n",
    "    \"\"\"\n",
    "    Calculates the gradient for a given set of inputs and parameters.\n",
    "    \n",
    "    Parameters\n",
    "    ----------\n",
    "    x : ndarray\n",
    "    y : ndarray\n",
    "    w : float\n",
    "    b : float\n",
    "\n",
    "    Returns\n",
    "    -------\n",
    "    dQ_dw : float\n",
    "    dQ_db : float\n",
    "    \"\"\"\n",
    "    # TODO"
   ]
  },
  {
   "cell_type": "markdown",
   "metadata": {},
   "source": [
    "Найдите оптимальные парамтеры $w, b$ используя градиентный спуск (он также называется Batch Gradient Descent, для дополнительной информации см. [типы алгоритмов градиентного спуска](https://www.baeldung.com/cs/gradient-stochastic-and-mini-batch)).\\\n",
    "Для этого реализуйте функцию `gradient_descent` (см. $(2)$). Используйте `empirical_risk` для отслеживания процесса обучения и  `compute_gradient` для нахождения $\\frac{\\partial Q(w,b)}{\\partial b}$ и $\\frac{\\partial Q(w,b)}{\\partial w}$ на каждой итерации обучения."
   ]
  },
  {
   "cell_type": "code",
   "execution_count": 12,
   "metadata": {},
   "outputs": [],
   "source": [
    "def gradient_descent(x, y, w_init, b_init, h, num_iters):\n",
    "    \"\"\"\n",
    "    Performs batch gradient descent for a given set of inputs and w_init, b_init.\n",
    "    \n",
    "    Parameters\n",
    "    ----------\n",
    "    x : ndarray\n",
    "    y : ndarray\n",
    "    w_init, b_init : float \n",
    "        Initial values of model parameters\n",
    "    h : float \n",
    "        Learning rate\n",
    "    num_iters : int \n",
    "        Number of iterations\n",
    "\n",
    "    Returns\n",
    "    -------\n",
    "    w : float\n",
    "    b : float\n",
    "    \"\"\"\n",
    "    # TODO"
   ]
  },
  {
   "cell_type": "markdown",
   "metadata": {},
   "source": [
    "Полученные параметры используйте в модели линейной регрессии $(1)$ для получения предсказаний. Отобразите полученный результат на графике. "
   ]
  },
  {
   "cell_type": "markdown",
   "metadata": {},
   "source": [
    "### Задание №2"
   ]
  },
  {
   "cell_type": "markdown",
   "metadata": {},
   "source": [
    "Используя класс [sklearn.linear_model.SGDRegressor](https://scikit-learn.org/stable/modules/generated/sklearn.linear_model.SGDRegressor.html) из пакета [Scikit-learn](https://scikit-learn.org/stable/) реализуйте линейную регрессию. `SGDRegressor` реализует алгоритм стохастического градиентного спуска, отличающийся от обычного градиентного спуска тем, что градиент оптимизируемой функции считается на каждом шаге не как сумма градиентов от каждого элемента выборки, а как градиент от одного, случайно выбранного элемента. Такой подход позволяет оптимизировать процесс обучения.\\\n",
    "Используя те же данные, и сравните результаты. Они могут не совпадать, но должны быть похожи.\n"
   ]
  },
  {
   "cell_type": "code",
   "execution_count": null,
   "metadata": {},
   "outputs": [],
   "source": []
  }
 ],
 "metadata": {
  "kernelspec": {
   "display_name": "Python 3 (ipykernel)",
   "language": "python",
   "name": "python3"
  },
  "language_info": {
   "codemirror_mode": {
    "name": "ipython",
    "version": 3
   },
   "file_extension": ".py",
   "mimetype": "text/x-python",
   "name": "python",
   "nbconvert_exporter": "python",
   "pygments_lexer": "ipython3",
   "version": "3.11.5"
  }
 },
 "nbformat": 4,
 "nbformat_minor": 1
}
